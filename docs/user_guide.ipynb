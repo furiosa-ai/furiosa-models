{
 "cells": [
  {
   "cell_type": "markdown",
   "metadata": {},
   "source": [
    "# Furiosa Model Zoo User Guide\n",
    "모델 주는 FuriosaAI NPU를 사용해서 가속할 수 있는 모델들을 쉽게 사용할 수 있도록 모아놓은 프로젝트입니다.\n",
    "먼저, 사용 가능한 모델들을 살펴보겠습니다."
   ]
  },
  {
   "cell_type": "code",
   "execution_count": 1,
   "metadata": {},
   "outputs": [
    {
     "name": "stdout",
     "output_type": "stream",
     "text": [
      "['EfficientNetB0', 'EfficientNetV2s', 'ResNet50', 'SSDMobileNet', 'SSDResNet34', 'YOLOv5l', 'YOLOv5m']\n"
     ]
    }
   ],
   "source": [
    "from furiosa.models import vision\n",
    "\n",
    "\n",
    "print(dir(vision))"
   ]
  },
  {
   "cell_type": "code",
   "execution_count": 2,
   "metadata": {},
   "outputs": [
    {
     "name": "stdout",
     "output_type": "stream",
     "text": [
      "+-----------------+------------------------------+----------------------+-------------------------+\n",
      "|   Model name    |      Model description       |      Task type       | Available postprocesses |\n",
      "+-----------------+------------------------------+----------------------+-------------------------+\n",
      "|    ResNet50     |   MLCommons ResNet50 model   | Image Classification |         Python          |\n",
      "|  SSDMobileNet   | MLCommons MobileNet v1 model |   Object Detection   |      Python, Rust       |\n",
      "|   SSDResNet34   | MLCommons SSD ResNet34 model |   Object Detection   |      Python, Rust       |\n",
      "|     YOLOv5l     |      YOLOv5 Large model      |   Object Detection   |          Rust           |\n",
      "|     YOLOv5m     |     YOLOv5 Medium model      |   Object Detection   |          Rust           |\n",
      "| EfficientNetB0  |    EfficientNet B0 model     | Image Classification |         Python          |\n",
      "| EfficientNetV2s |    EfficientNetV2-s model    | Image Classification |         Python          |\n",
      "+-----------------+------------------------------+----------------------+-------------------------+\n"
     ]
    }
   ],
   "source": [
    "!furiosa-models list"
   ]
  }
 ],
 "metadata": {
  "kernelspec": {
   "display_name": "models",
   "language": "python",
   "name": "python3"
  },
  "language_info": {
   "codemirror_mode": {
    "name": "ipython",
    "version": 3
   },
   "file_extension": ".py",
   "mimetype": "text/x-python",
   "name": "python",
   "nbconvert_exporter": "python",
   "pygments_lexer": "ipython3",
   "version": "3.9.17"
  },
  "orig_nbformat": 4
 },
 "nbformat": 4,
 "nbformat_minor": 2
}
