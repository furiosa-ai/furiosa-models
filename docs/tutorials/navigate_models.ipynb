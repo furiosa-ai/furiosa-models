{
 "cells": [
  {
   "cell_type": "markdown",
   "metadata": {},
   "source": [
    "모델 주는 FuriosaAI NPU를 사용해서 가속할 수 있는 모델들을 쉽게 사용할 수 있도록 모아놓은 프로젝트입니다. 먼저, 사용 가능한 모델들을 살펴보겠습니다."
   ]
  },
  {
   "cell_type": "code",
   "execution_count": 1,
   "metadata": {},
   "outputs": [
    {
     "name": "stdout",
     "output_type": "stream",
     "text": [
      "['EfficientNetB0', 'EfficientNetV2s', 'ResNet50', 'SSDMobileNet', 'SSDResNet34', 'YOLOv5l', 'YOLOv5m']\n"
     ]
    }
   ],
   "source": [
    "from furiosa.models import vision\n",
    "\n",
    "\n",
    "print(dir(vision))"
   ]
  },
  {
   "cell_type": "code",
   "execution_count": 2,
   "metadata": {},
   "outputs": [
    {
     "name": "stdout",
     "output_type": "stream",
     "text": [
      "+-----------------+------------------------------+----------------------+-------------------------+\n",
      "|   Model name    |      Model description       |      Task type       | Available postprocesses |\n",
      "+-----------------+------------------------------+----------------------+-------------------------+\n",
      "|    ResNet50     |   MLCommons ResNet50 model   | Image Classification |         Python          |\n",
      "|  SSDMobileNet   | MLCommons MobileNet v1 model |   Object Detection   |      Python, Rust       |\n",
      "|   SSDResNet34   | MLCommons SSD ResNet34 model |   Object Detection   |      Python, Rust       |\n",
      "|     YOLOv5l     |      YOLOv5 Large model      |   Object Detection   |          Rust           |\n",
      "|     YOLOv5m     |     YOLOv5 Medium model      |   Object Detection   |          Rust           |\n",
      "| EfficientNetB0  |    EfficientNet B0 model     | Image Classification |         Python          |\n",
      "| EfficientNetV2s |    EfficientNetV2-s model    | Image Classification |         Python          |\n",
      "+-----------------+------------------------------+----------------------+-------------------------+\n"
     ]
    }
   ],
   "source": [
    "# Or you can use the Command line tool\n",
    "! furiosa-models list"
   ]
  },
  {
   "cell_type": "markdown",
   "metadata": {},
   "source": [
    "그 중 하나인 ResNet50의 인스턴스를 만들고 `Model` 객체에 관해 자세히 알아보겠습니다."
   ]
  },
  {
   "cell_type": "code",
   "execution_count": 3,
   "metadata": {},
   "outputs": [
    {
     "name": "stdout",
     "output_type": "stream",
     "text": [
      "name='ResNet50' task_type=<ModelTaskType.IMAGE_CLASSIFICATION: 'IMAGE_CLASSIFICATION'> format=<Format.ONNX: 'ONNX'> family='ResNet' version='v1.5' metadata=Metadata(description='ResNet50 v1.5 int8 ImageNet-1K', publication=Publication(authors=None, title=None, publisher=None, date=None, url='https://arxiv.org/abs/1512.03385.pdf')) tags=None\n",
      "Static fields: ['name', 'task_type', 'format', 'family', 'version', 'metadata', 'tags', 'preprocessor', 'postprocessor']\n",
      "Lazy loaded fields: ['origin', 'tensor_name_to_range']\n"
     ]
    }
   ],
   "source": [
    "model = vision.ResNet50()\n",
    "print(model)\n",
    "\n",
    "print(\"Static fields:\", list(model.model_fields.keys()))\n",
    "print(\"Lazy loaded fields:\", list(model.model_computed_fields.keys()))"
   ]
  },
  {
   "cell_type": "code",
   "execution_count": 4,
   "metadata": {},
   "outputs": [
    {
     "name": "stdout",
     "output_type": "stream",
     "text": [
      "name: ResNet50\n",
      "format: ONNX\n",
      "family: ResNet\n",
      "version: v1.5\n",
      "metadata:\n",
      "  description: ResNet50 v1.5 int8 ImageNet-1K\n",
      "  publication:\n",
      "    url: https://arxiv.org/abs/1512.03385.pdf\n",
      "task type: Image Classification\n",
      "available postprocess versions: Python\n"
     ]
    }
   ],
   "source": [
    "# You can see the static fields in Command line tool too\n",
    "! furiosa-models desc ResNet50"
   ]
  },
  {
   "cell_type": "markdown",
   "metadata": {},
   "source": [
    "Actually there's one more hidden field (or, a method)"
   ]
  },
  {
   "cell_type": "code",
   "execution_count": 5,
   "metadata": {},
   "outputs": [],
   "source": [
    "_ = model.model_source(num_pe=2)"
   ]
  }
 ],
 "metadata": {
  "kernelspec": {
   "display_name": "models",
   "language": "python",
   "name": "python3"
  },
  "language_info": {
   "codemirror_mode": {
    "name": "ipython",
    "version": 3
   },
   "file_extension": ".py",
   "mimetype": "text/x-python",
   "name": "python",
   "nbconvert_exporter": "python",
   "pygments_lexer": "ipython3",
   "version": "3.9.17"
  },
  "orig_nbformat": 4
 },
 "nbformat": 4,
 "nbformat_minor": 2
}
