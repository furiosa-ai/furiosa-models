{
 "cells": [
  {
   "cell_type": "markdown",
   "metadata": {},
   "source": [
    "# Quantize and compiling Models\n",
    "\n",
    "Related fields:\n",
    "- tensor_name_to_range\n",
    "- origin\n",
    "\n",
    "See the Model's input/output summary"
   ]
  },
  {
   "cell_type": "code",
   "execution_count": 1,
   "metadata": {},
   "outputs": [
    {
     "name": "stderr",
     "output_type": "stream",
     "text": [
      "libfuriosa_hal.so --- v0.11.0, built @ 43c901f\n",
      "libfuriosa_hal.so --- v0.11.0, built @ 43c901f\n"
     ]
    },
    {
     "name": "stdout",
     "output_type": "stream",
     "text": [
      "First field of calibration ranges: ('input_tensor:0', (-123.5584560111165, 150.34208860248327))\n",
      "\u001b[2m2023-08-28T01:28:05.078547Z\u001b[0m \u001b[32m INFO\u001b[0m \u001b[2mfuriosa_rt_core::driver::event_driven::coord\u001b[0m\u001b[2m:\u001b[0m FuriosaRT (v0.10.0, rev: ac1a04a8d, built at: 2023-08-08T12:15:46Z) bootstrapping ...\n",
      "\u001b[2m2023-08-28T01:28:05.084541Z\u001b[0m \u001b[32m INFO\u001b[0m \u001b[2mfuriosa_rt_core::driver::event_driven::coord\u001b[0m\u001b[2m:\u001b[0m Found furiosa-compiler (v0.10.0, rev: f8f05c8, built at: 2023-08-08T11:58:09Z)\n",
      "\u001b[2m2023-08-28T01:28:05.084554Z\u001b[0m \u001b[32m INFO\u001b[0m \u001b[2mfuriosa_rt_core::driver::event_driven::coord\u001b[0m\u001b[2m:\u001b[0m Found libhal (type: warboy, v0.11.0, rev: 43c901f built at: 2023-08-08T12:07:35Z)\n",
      "\u001b[2m2023-08-28T01:28:05.084557Z\u001b[0m \u001b[32m INFO\u001b[0m \u001b[2mfuriosa_rt_core::driver::event_driven::coord\u001b[0m\u001b[2m:\u001b[0m [Runtime-0] detected 1 NPU device(s):\n",
      "\u001b[2m2023-08-28T01:28:05.094238Z\u001b[0m \u001b[32m INFO\u001b[0m \u001b[2mfuriosa_rt_core::driver::event_driven::coord\u001b[0m\u001b[2m:\u001b[0m - [0] npu:2:0-1 (warboy-b0-2pe, 128dpes, firmware: 1.7.0, f7b0f28)\n",
      "\u001b[2m2023-08-28T01:28:05.094462Z\u001b[0m \u001b[32m INFO\u001b[0m \u001b[2mfuriosa_rt_core::driver::event_driven::coord\u001b[0m\u001b[2m:\u001b[0m [Runtime-0] started\n",
      "\u001b[2m2023-08-28T01:28:09.761370Z\u001b[0m \u001b[32m INFO\u001b[0m \u001b[2mfuriosa::runtime\u001b[0m\u001b[2m:\u001b[0m Saving the compilation log into /root/.local/state/furiosa/logs/compiler-20230828102809-v88fdx.log\n",
      "\u001b[2m2023-08-28T01:28:09.761655Z\u001b[0m \u001b[32m INFO\u001b[0m \u001b[2mfuriosa_rt_core::driver::event_driven::coord\u001b[0m\u001b[2m:\u001b[0m [Runtime-0] created Sess-08a8e56d using npu:2:0-1\n",
      "\u001b[2m2023-08-28T01:28:09.773352Z\u001b[0m \u001b[32m INFO\u001b[0m \u001b[2mfuriosa_rt_core::driver::event_driven::coord\u001b[0m\u001b[2m:\u001b[0m [Sess-08a8e56d] compiling the model (target: warboy-b0-2pe, 128dpes, size: 102.2 MB)\n",
      "\u001b[2m2023-08-28T01:28:12.780705Z\u001b[0m \u001b[32m INFO\u001b[0m \u001b[2mfuriosa_rt_core::driver::event_driven::coord\u001b[0m\u001b[2m:\u001b[0m [Sess-08a8e56d] the model compile is successful (took 3 secs)\n",
      "\u001b[2m2023-08-28T01:28:13.227285Z\u001b[0m \u001b[32m INFO\u001b[0m \u001b[2mfuriosa_rt_core::driver::event_driven::coord\u001b[0m\u001b[2m:\u001b[0m [Runtime-0] created 1 NPU threads on npu:2:0-1 (DRAM: 180.0 kiB/16.0 GiB, SRAM: 31.4 MiB/128.0 MiB)\n",
      "Inputs:\n",
      "{0: TensorDesc(shape=(1, 3, 224, 224), dtype=FLOAT32, format=NCHW, size=602112, len=150528)}\n",
      "Outputs:\n",
      "{0: TensorDesc(shape=(1,), dtype=INT64, format=?, size=8, len=1)}\n",
      "\u001b[2m2023-08-28T01:28:13.413781Z\u001b[0m \u001b[32m INFO\u001b[0m \u001b[2mfuriosa_rt_core::driver::event_driven::coord\u001b[0m\u001b[2m:\u001b[0m [Sess-08a8e56d] terminated\n",
      "\u001b[2m2023-08-28T01:28:13.417749Z\u001b[0m \u001b[32m INFO\u001b[0m \u001b[2mfuriosa_rt_core::npu::raw\u001b[0m\u001b[2m:\u001b[0m NPU (npu:2:0-1) has been closed\n",
      "\u001b[2m2023-08-28T01:28:13.419580Z\u001b[0m \u001b[32m INFO\u001b[0m \u001b[2mfuriosa_rt_core::driver::event_driven::coord\u001b[0m\u001b[2m:\u001b[0m [Runtime-0] stopped\n"
     ]
    }
   ],
   "source": [
    "from furiosa.models import vision\n",
    "from furiosa.quantizer import quantize\n",
    "from furiosa.runtime.sync import create_runner\n",
    "\n",
    "import onnx\n",
    "\n",
    "model = vision.ResNet50()\n",
    "print(\"First field of calibration ranges:\", next(iter(model.tensor_name_to_range.items())))\n",
    "\n",
    "f32_onnx_model = onnx.load_from_string(model.origin)\n",
    "quantized_onnx = quantize(f32_onnx_model, model.tensor_name_to_range)\n",
    "\n",
    "with create_runner(quantized_onnx) as runner:\n",
    "    runner.model.print_summary()"
   ]
  },
  {
   "cell_type": "markdown",
   "metadata": {},
   "source": [
    "Run inferences with scaling"
   ]
  },
  {
   "cell_type": "code",
   "execution_count": 2,
   "metadata": {},
   "outputs": [
    {
     "name": "stdout",
     "output_type": "stream",
     "text": [
      "\u001b[2m2023-08-28T01:28:13.806497Z\u001b[0m \u001b[32m INFO\u001b[0m \u001b[2mfuriosa_rt_core::driver::event_driven::coord\u001b[0m\u001b[2m:\u001b[0m FuriosaRT (v0.10.0, rev: ac1a04a8d, built at: 2023-08-08T12:15:46Z) bootstrapping ...\n",
      "\u001b[2m2023-08-28T01:28:13.811804Z\u001b[0m \u001b[32m INFO\u001b[0m \u001b[2mfuriosa_rt_core::driver::event_driven::coord\u001b[0m\u001b[2m:\u001b[0m Found furiosa-compiler (v0.10.0, rev: f8f05c8, built at: 2023-08-08T11:58:09Z)\n",
      "\u001b[2m2023-08-28T01:28:13.811809Z\u001b[0m \u001b[32m INFO\u001b[0m \u001b[2mfuriosa_rt_core::driver::event_driven::coord\u001b[0m\u001b[2m:\u001b[0m Found libhal (type: warboy, v0.11.0, rev: 43c901f built at: 2023-08-08T12:07:35Z)\n",
      "\u001b[2m2023-08-28T01:28:13.811811Z\u001b[0m \u001b[32m INFO\u001b[0m \u001b[2mfuriosa_rt_core::driver::event_driven::coord\u001b[0m\u001b[2m:\u001b[0m [Runtime-1] detected 1 NPU device(s):\n",
      "\u001b[2m2023-08-28T01:28:13.823402Z\u001b[0m \u001b[32m INFO\u001b[0m \u001b[2mfuriosa_rt_core::driver::event_driven::coord\u001b[0m\u001b[2m:\u001b[0m - [0] npu:2:0-1 (warboy-b0-2pe, 128dpes, firmware: 1.7.0, f7b0f28)\n",
      "\u001b[2m2023-08-28T01:28:13.823534Z\u001b[0m \u001b[32m INFO\u001b[0m \u001b[2mfuriosa_rt_core::driver::event_driven::coord\u001b[0m\u001b[2m:\u001b[0m [Runtime-1] started\n",
      "\u001b[2m2023-08-28T01:28:17.728906Z\u001b[0m \u001b[32m INFO\u001b[0m \u001b[2mfuriosa::runtime\u001b[0m\u001b[2m:\u001b[0m Saving the compilation log into /root/.local/state/furiosa/logs/compiler-20230828102817-okpycl.log\n",
      "\u001b[2m2023-08-28T01:28:17.729397Z\u001b[0m \u001b[32m INFO\u001b[0m \u001b[2mfuriosa_rt_core::driver::event_driven::coord\u001b[0m\u001b[2m:\u001b[0m [Runtime-1] created Sess-541713a4 using npu:2:0-1\n",
      "\u001b[2m2023-08-28T01:28:17.743437Z\u001b[0m \u001b[32m INFO\u001b[0m \u001b[2mfuriosa_rt_core::driver::event_driven::coord\u001b[0m\u001b[2m:\u001b[0m [Sess-541713a4] compiling the model (target: warboy-b0-2pe, 128dpes, size: 102.2 MB)\n",
      "\u001b[2m2023-08-28T01:28:20.754124Z\u001b[0m \u001b[32m INFO\u001b[0m \u001b[2mfuriosa_rt_core::driver::event_driven::coord\u001b[0m\u001b[2m:\u001b[0m [Sess-541713a4] the model compile is successful (took 3 secs)\n",
      "\u001b[2m2023-08-28T01:28:21.203223Z\u001b[0m \u001b[32m INFO\u001b[0m \u001b[2mfuriosa_rt_core::driver::event_driven::coord\u001b[0m\u001b[2m:\u001b[0m [Runtime-1] created 1 NPU threads on npu:2:0-1 (DRAM: 180.0 kiB/16.0 GiB, SRAM: 31.4 MiB/128.0 MiB)\n",
      "Inputs:\n",
      "{0: TensorDesc(shape=(1, 3, 224, 224), dtype=FLOAT32, format=NCHW, size=602112, len=150528)}\n",
      "Outputs:\n",
      "{0: TensorDesc(shape=(1,), dtype=INT64, format=?, size=8, len=1)}\n",
      "Average inference time: 5.614574640989304 ms\n",
      "\u001b[2m2023-08-28T01:28:27.071158Z\u001b[0m \u001b[32m INFO\u001b[0m \u001b[2mfuriosa_rt_core::driver::event_driven::coord\u001b[0m\u001b[2m:\u001b[0m [Sess-541713a4] terminated\n",
      "\u001b[2m2023-08-28T01:28:27.080271Z\u001b[0m \u001b[32m INFO\u001b[0m \u001b[2mfuriosa_rt_core::npu::raw\u001b[0m\u001b[2m:\u001b[0m NPU (npu:2:0-1) has been closed\n",
      "\u001b[2m2023-08-28T01:28:27.085561Z\u001b[0m \u001b[32m INFO\u001b[0m \u001b[2mfuriosa_rt_core::driver::event_driven::coord\u001b[0m\u001b[2m:\u001b[0m [Runtime-1] stopped\n"
     ]
    }
   ],
   "source": [
    "import numpy as np\n",
    "from time import perf_counter\n",
    "\n",
    "\n",
    "quantized_onnx = quantize(f32_onnx_model, model.tensor_name_to_range)\n",
    "\n",
    "with create_runner(quantized_onnx) as runner:\n",
    "    input_tensor_desc = runner.model.inputs()\n",
    "    runner.model.print_summary()\n",
    "    fake_input = [\n",
    "        np.asarray(np.random.randint(256, size=desc.shape), dtype=desc.dtype.numpy)\n",
    "        for desc in input_tensor_desc\n",
    "    ]\n",
    "    starting_time = perf_counter()\n",
    "    for _ in range(1000):\n",
    "        runner.run(fake_input)\n",
    "    print(\"Average inference time:\", perf_counter() - starting_time, \"ms\")"
   ]
  },
  {
   "cell_type": "markdown",
   "metadata": {},
   "source": [
    "Run inferences without scaling (and quantize).\n",
    "\n",
    "\n",
    "See [performance tuning guide](https://furiosa-ai.github.io/docs/latest/ko/software/performance.html#quantize) for more details.\n",
    "\n",
    "\n",
    "Please note that input data type has been changed"
   ]
  },
  {
   "cell_type": "code",
   "execution_count": 3,
   "metadata": {},
   "outputs": [
    {
     "name": "stdout",
     "output_type": "stream",
     "text": [
      "\u001b[2m2023-08-28T01:28:27.838330Z\u001b[0m \u001b[32m INFO\u001b[0m \u001b[2mfuriosa_rt_core::driver::event_driven::coord\u001b[0m\u001b[2m:\u001b[0m FuriosaRT (v0.10.0, rev: ac1a04a8d, built at: 2023-08-08T12:15:46Z) bootstrapping ...\n",
      "\u001b[2m2023-08-28T01:28:27.844387Z\u001b[0m \u001b[32m INFO\u001b[0m \u001b[2mfuriosa_rt_core::driver::event_driven::coord\u001b[0m\u001b[2m:\u001b[0m Found furiosa-compiler (v0.10.0, rev: f8f05c8, built at: 2023-08-08T11:58:09Z)\n",
      "\u001b[2m2023-08-28T01:28:27.844399Z\u001b[0m \u001b[32m INFO\u001b[0m \u001b[2mfuriosa_rt_core::driver::event_driven::coord\u001b[0m\u001b[2m:\u001b[0m Found libhal (type: warboy, v0.11.0, rev: 43c901f built at: 2023-08-08T12:07:35Z)\n",
      "\u001b[2m2023-08-28T01:28:27.844403Z\u001b[0m \u001b[32m INFO\u001b[0m \u001b[2mfuriosa_rt_core::driver::event_driven::coord\u001b[0m\u001b[2m:\u001b[0m [Runtime-2] detected 1 NPU device(s):\n",
      "\u001b[2m2023-08-28T01:28:27.854235Z\u001b[0m \u001b[32m INFO\u001b[0m \u001b[2mfuriosa_rt_core::driver::event_driven::coord\u001b[0m\u001b[2m:\u001b[0m - [0] npu:2:0-1 (warboy-b0-2pe, 128dpes, firmware: 1.7.0, f7b0f28)\n",
      "\u001b[2m2023-08-28T01:28:27.854453Z\u001b[0m \u001b[32m INFO\u001b[0m \u001b[2mfuriosa_rt_core::driver::event_driven::coord\u001b[0m\u001b[2m:\u001b[0m [Runtime-2] started\n",
      "\u001b[2m2023-08-28T01:28:32.712311Z\u001b[0m \u001b[32m INFO\u001b[0m \u001b[2mfuriosa::runtime\u001b[0m\u001b[2m:\u001b[0m Saving the compilation log into /root/.local/state/furiosa/logs/compiler-20230828102832-nwtxhl.log\n",
      "\u001b[2m2023-08-28T01:28:32.712548Z\u001b[0m \u001b[32m INFO\u001b[0m \u001b[2mfuriosa_rt_core::driver::event_driven::coord\u001b[0m\u001b[2m:\u001b[0m [Runtime-2] created Sess-78e2493d using npu:2:0-1\n",
      "\u001b[2m2023-08-28T01:28:32.733493Z\u001b[0m \u001b[32m INFO\u001b[0m \u001b[2mfuriosa_rt_core::driver::event_driven::coord\u001b[0m\u001b[2m:\u001b[0m [Sess-78e2493d] compiling the model (target: warboy-b0-2pe, 128dpes, size: 102.2 MB)\n",
      "\u001b[2m2023-08-28T01:28:35.824911Z\u001b[0m \u001b[32m INFO\u001b[0m \u001b[2mfuriosa_rt_core::driver::event_driven::coord\u001b[0m\u001b[2m:\u001b[0m [Sess-78e2493d] the model compile is successful (took 3 secs)\n",
      "\u001b[2m2023-08-28T01:28:36.227750Z\u001b[0m \u001b[32m INFO\u001b[0m \u001b[2mfuriosa_rt_core::driver::event_driven::coord\u001b[0m\u001b[2m:\u001b[0m [Runtime-2] created 1 NPU threads on npu:2:0-1 (DRAM: 180.0 kiB/16.0 GiB, SRAM: 31.4 MiB/128.0 MiB)\n",
      "Inputs:\n",
      "{0: TensorDesc(shape=(1, 3, 224, 224), dtype=UINT8, format=NCHW, size=150528, len=150528)}\n",
      "Outputs:\n",
      "{0: TensorDesc(shape=(1,), dtype=INT64, format=?, size=8, len=1)}\n",
      "Average inference time: 2.5746346139349043 ms\n",
      "\u001b[2m2023-08-28T01:28:39.026687Z\u001b[0m \u001b[32m INFO\u001b[0m \u001b[2mfuriosa_rt_core::driver::event_driven::coord\u001b[0m\u001b[2m:\u001b[0m [Sess-78e2493d] terminated\n",
      "\u001b[2m2023-08-28T01:28:39.036203Z\u001b[0m \u001b[32m INFO\u001b[0m \u001b[2mfuriosa_rt_core::npu::raw\u001b[0m\u001b[2m:\u001b[0m NPU (npu:2:0-1) has been closed\n",
      "\u001b[2m2023-08-28T01:28:39.041580Z\u001b[0m \u001b[32m INFO\u001b[0m \u001b[2mfuriosa_rt_core::driver::event_driven::coord\u001b[0m\u001b[2m:\u001b[0m [Runtime-2] stopped\n"
     ]
    }
   ],
   "source": [
    "from copy import deepcopy\n",
    "from furiosa.quantizer import ModelEditor, get_pure_input_names, TensorType\n",
    "\n",
    "\n",
    "model_wo_input_quantize = deepcopy(f32_onnx_model)\n",
    "editor = ModelEditor(model_wo_input_quantize)\n",
    "for input_name in get_pure_input_names(model_wo_input_quantize):\n",
    "    editor.convert_input_type(input_name, TensorType.UINT8)\n",
    "quantized_onnx_wo_input_quantize = quantize(model_wo_input_quantize, model.tensor_name_to_range)\n",
    "\n",
    "with create_runner(quantized_onnx_wo_input_quantize) as runner:\n",
    "    input_tensor_desc = runner.model.inputs()\n",
    "    runner.model.print_summary()\n",
    "    fake_input = [\n",
    "        np.random.randint(256, size=desc.shape, dtype=desc.dtype.numpy)\n",
    "        for desc in input_tensor_desc\n",
    "    ]\n",
    "    starting_time = perf_counter()\n",
    "    for _ in range(1000):\n",
    "        runner.run(fake_input)\n",
    "    print(\"Average inference time:\", perf_counter() - starting_time, \"ms\")"
   ]
  },
  {
   "cell_type": "markdown",
   "metadata": {},
   "source": [
    "You can compile & use only 1pe"
   ]
  },
  {
   "cell_type": "code",
   "execution_count": 4,
   "metadata": {},
   "outputs": [
    {
     "name": "stdout",
     "output_type": "stream",
     "text": [
      "\u001b[2m2023-08-28T01:28:39.079503Z\u001b[0m \u001b[32m INFO\u001b[0m \u001b[2mfuriosa_rt_core::driver::event_driven::coord\u001b[0m\u001b[2m:\u001b[0m FuriosaRT (v0.10.0, rev: ac1a04a8d, built at: 2023-08-08T12:15:46Z) bootstrapping ...\n",
      "\u001b[2m2023-08-28T01:28:39.084505Z\u001b[0m \u001b[32m INFO\u001b[0m \u001b[2mfuriosa_rt_core::driver::event_driven::coord\u001b[0m\u001b[2m:\u001b[0m Found furiosa-compiler (v0.10.0, rev: f8f05c8, built at: 2023-08-08T11:58:09Z)\n",
      "\u001b[2m2023-08-28T01:28:39.084523Z\u001b[0m \u001b[32m INFO\u001b[0m \u001b[2mfuriosa_rt_core::driver::event_driven::coord\u001b[0m\u001b[2m:\u001b[0m Found libhal (type: warboy, v0.11.0, rev: 43c901f built at: 2023-08-08T12:07:35Z)\n",
      "\u001b[2m2023-08-28T01:28:39.084529Z\u001b[0m \u001b[32m INFO\u001b[0m \u001b[2mfuriosa_rt_core::driver::event_driven::coord\u001b[0m\u001b[2m:\u001b[0m [Runtime-3] detected 1 NPU device(s):\n",
      "\u001b[2m2023-08-28T01:28:39.094433Z\u001b[0m \u001b[32m INFO\u001b[0m \u001b[2mfuriosa_rt_core::driver::event_driven::coord\u001b[0m\u001b[2m:\u001b[0m - [0] npu:2:0 (warboy-b0, 64dpes, firmware: 1.7.0, f7b0f28)\n",
      "\u001b[2m2023-08-28T01:28:39.094599Z\u001b[0m \u001b[32m INFO\u001b[0m \u001b[2mfuriosa_rt_core::driver::event_driven::coord\u001b[0m\u001b[2m:\u001b[0m [Runtime-3] started\n",
      "\u001b[2m2023-08-28T01:28:44.681264Z\u001b[0m \u001b[32m INFO\u001b[0m \u001b[2mfuriosa::runtime\u001b[0m\u001b[2m:\u001b[0m Saving the compilation log into /root/.local/state/furiosa/logs/compiler-20230828102844-v2bdzh.log\n",
      "\u001b[2m2023-08-28T01:28:44.681540Z\u001b[0m \u001b[32m INFO\u001b[0m \u001b[2mfuriosa_rt_core::driver::event_driven::coord\u001b[0m\u001b[2m:\u001b[0m [Runtime-3] created Sess-660528cf using npu:2:0\n",
      "\u001b[2m2023-08-28T01:28:44.693511Z\u001b[0m \u001b[32m INFO\u001b[0m \u001b[2mfuriosa_rt_core::driver::event_driven::coord\u001b[0m\u001b[2m:\u001b[0m [Sess-660528cf] compiling the model (target: warboy-b0, 64dpes, size: 102.2 MB)\n",
      "\u001b[2m2023-08-28T01:28:47.133498Z\u001b[0m \u001b[32m INFO\u001b[0m \u001b[2mfuriosa_rt_core::driver::event_driven::coord\u001b[0m\u001b[2m:\u001b[0m [Sess-660528cf] the model compile is successful (took 2 secs)\n",
      "\u001b[2m2023-08-28T01:28:47.336202Z\u001b[0m \u001b[32m INFO\u001b[0m \u001b[2mfuriosa_rt_core::driver::event_driven::coord\u001b[0m\u001b[2m:\u001b[0m [Runtime-3] created 1 NPU threads on npu:2:0 (DRAM: 14.0 MiB/16.0 GiB, SRAM: 16.0 MiB/64.0 MiB)\n",
      "Inputs:\n",
      "{0: TensorDesc(shape=(1, 3, 224, 224), dtype=UINT8, format=NCHW, size=150528, len=150528)}\n",
      "Outputs:\n",
      "{0: TensorDesc(shape=(1,), dtype=INT64, format=?, size=8, len=1)}\n",
      "Average inference time: 2.743666300084442 ms\n",
      "\u001b[2m2023-08-28T01:28:50.269460Z\u001b[0m \u001b[32m INFO\u001b[0m \u001b[2mfuriosa_rt_core::driver::event_driven::coord\u001b[0m\u001b[2m:\u001b[0m [Sess-660528cf] terminated\n",
      "\u001b[2m2023-08-28T01:28:50.279019Z\u001b[0m \u001b[32m INFO\u001b[0m \u001b[2mfuriosa_rt_core::npu::raw\u001b[0m\u001b[2m:\u001b[0m NPU (npu:2:0) has been closed\n",
      "\u001b[2m2023-08-28T01:28:50.284263Z\u001b[0m \u001b[32m INFO\u001b[0m \u001b[2mfuriosa_rt_core::driver::event_driven::coord\u001b[0m\u001b[2m:\u001b[0m [Runtime-3] stopped\n"
     ]
    }
   ],
   "source": [
    "from furiosa.runtime.sync import Runtime\n",
    "\n",
    "\n",
    "with Runtime(device=\"warboy(1)*1\") as runtime:\n",
    "    with runtime.create_runner(quantized_onnx_wo_input_quantize) as runner:\n",
    "        input_tensor_desc = runner.model.inputs()\n",
    "        runner.model.print_summary()\n",
    "        fake_input = [\n",
    "            np.random.randint(256, size=desc.shape, dtype=desc.dtype.numpy)\n",
    "            for desc in input_tensor_desc\n",
    "        ]\n",
    "        starting_time = perf_counter()\n",
    "        for _ in range(1000):\n",
    "            runner.run(fake_input)\n",
    "        print(\"Average inference time:\", perf_counter() - starting_time, \"ms\")"
   ]
  }
 ],
 "metadata": {
  "kernelspec": {
   "display_name": "models",
   "language": "python",
   "name": "python3"
  },
  "language_info": {
   "codemirror_mode": {
    "name": "ipython",
    "version": 3
   },
   "file_extension": ".py",
   "mimetype": "text/x-python",
   "name": "python",
   "nbconvert_exporter": "python",
   "pygments_lexer": "ipython3",
   "version": "3.9.17"
  },
  "orig_nbformat": 4
 },
 "nbformat": 4,
 "nbformat_minor": 2
}
